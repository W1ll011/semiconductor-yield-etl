{
 "cells": [
  {
   "cell_type": "code",
   "execution_count": 2,
   "id": "0be2b62b-8120-4ea5-91c5-42a2154fefe6",
   "metadata": {},
   "outputs": [
    {
     "name": "stdout",
     "output_type": "stream",
     "text": [
      "Generated C:\\Users\\Williams\\Desktop\\J\\PythonProjects\\semiconductor-yield-etl\\..\\data\\raw\\lot_a5ab1b70.csv\n",
      "Generated C:\\Users\\Williams\\Desktop\\J\\PythonProjects\\semiconductor-yield-etl\\..\\data\\raw\\lot_dca0fa45.csv\n",
      "Generated C:\\Users\\Williams\\Desktop\\J\\PythonProjects\\semiconductor-yield-etl\\..\\data\\raw\\lot_cb972760.csv\n"
     ]
    }
   ],
   "source": [
    "import sys\n",
    "sys.path.append(\"../src\")\n",
    "import generate_data\n",
    "from generate_data import main\n",
    "generate_data.main(num_lots=3)"
   ]
  },
  {
   "cell_type": "code",
   "execution_count": null,
   "id": "db60ce34-2ed5-472b-b3a1-15a7081494b9",
   "metadata": {},
   "outputs": [],
   "source": []
  }
 ],
 "metadata": {
  "kernelspec": {
   "display_name": "Python 3 (ipykernel)",
   "language": "python",
   "name": "python3"
  },
  "language_info": {
   "codemirror_mode": {
    "name": "ipython",
    "version": 3
   },
   "file_extension": ".py",
   "mimetype": "text/x-python",
   "name": "python",
   "nbconvert_exporter": "python",
   "pygments_lexer": "ipython3",
   "version": "3.13.5"
  }
 },
 "nbformat": 4,
 "nbformat_minor": 5
}
