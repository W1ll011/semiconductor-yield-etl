{
 "cells": [
  {
   "cell_type": "code",
   "execution_count": 1,
   "id": "745b4c51-084f-4acc-ad7a-b09303207557",
   "metadata": {},
   "outputs": [
    {
     "name": "stdout",
     "output_type": "stream",
     "text": [
      "Excel report saved to C:\\Users\\Williams\\Desktop\\J\\PythonProjects\\semiconductor-yield-etl\\notebooks\\../src\\..\\reports\\yield_report.xlsx\n"
     ]
    },
    {
     "data": {
      "text/html": [
       "<div>\n",
       "<style scoped>\n",
       "    .dataframe tbody tr th:only-of-type {\n",
       "        vertical-align: middle;\n",
       "    }\n",
       "\n",
       "    .dataframe tbody tr th {\n",
       "        vertical-align: top;\n",
       "    }\n",
       "\n",
       "    .dataframe thead th {\n",
       "        text-align: right;\n",
       "    }\n",
       "</style>\n",
       "<table border=\"1\" class=\"dataframe\">\n",
       "  <thead>\n",
       "    <tr style=\"text-align: right;\">\n",
       "      <th></th>\n",
       "      <th>lot_id</th>\n",
       "      <th>gross_die</th>\n",
       "      <th>good_die</th>\n",
       "      <th>yield</th>\n",
       "    </tr>\n",
       "  </thead>\n",
       "  <tbody>\n",
       "    <tr>\n",
       "      <th>0</th>\n",
       "      <td>00185d44</td>\n",
       "      <td>2500</td>\n",
       "      <td>2150</td>\n",
       "      <td>0.8600</td>\n",
       "    </tr>\n",
       "    <tr>\n",
       "      <th>1</th>\n",
       "      <td>001ae75a</td>\n",
       "      <td>2500</td>\n",
       "      <td>2226</td>\n",
       "      <td>0.8904</td>\n",
       "    </tr>\n",
       "    <tr>\n",
       "      <th>2</th>\n",
       "      <td>00b7695c</td>\n",
       "      <td>2500</td>\n",
       "      <td>2225</td>\n",
       "      <td>0.8900</td>\n",
       "    </tr>\n",
       "    <tr>\n",
       "      <th>3</th>\n",
       "      <td>00f504a9</td>\n",
       "      <td>2500</td>\n",
       "      <td>2230</td>\n",
       "      <td>0.8920</td>\n",
       "    </tr>\n",
       "    <tr>\n",
       "      <th>4</th>\n",
       "      <td>01850408</td>\n",
       "      <td>2500</td>\n",
       "      <td>2197</td>\n",
       "      <td>0.8788</td>\n",
       "    </tr>\n",
       "  </tbody>\n",
       "</table>\n",
       "</div>"
      ],
      "text/plain": [
       "     lot_id  gross_die  good_die   yield\n",
       "0  00185d44       2500      2150  0.8600\n",
       "1  001ae75a       2500      2226  0.8904\n",
       "2  00b7695c       2500      2225  0.8900\n",
       "3  00f504a9       2500      2230  0.8920\n",
       "4  01850408       2500      2197  0.8788"
      ]
     },
     "execution_count": 1,
     "metadata": {},
     "output_type": "execute_result"
    }
   ],
   "source": [
    "import sys\n",
    "sys.path.append(\"../src\")\n",
    "import etl\n",
    "import report\n",
    "report.main()\n",
    "df = etl.load_raw()\n",
    "summary = etl.compute_yield(df)\n",
    "summary.head()"
   ]
  },
  {
   "cell_type": "code",
   "execution_count": null,
   "id": "7ce5c4fe-d6b0-487c-bc6c-c3c09c33cf26",
   "metadata": {},
   "outputs": [],
   "source": []
  }
 ],
 "metadata": {
  "kernelspec": {
   "display_name": "Python 3 (ipykernel)",
   "language": "python",
   "name": "python3"
  },
  "language_info": {
   "codemirror_mode": {
    "name": "ipython",
    "version": 3
   },
   "file_extension": ".py",
   "mimetype": "text/x-python",
   "name": "python",
   "nbconvert_exporter": "python",
   "pygments_lexer": "ipython3",
   "version": "3.13.5"
  }
 },
 "nbformat": 4,
 "nbformat_minor": 5
}
