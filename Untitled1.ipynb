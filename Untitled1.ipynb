{
 "cells": [
  {
   "cell_type": "code",
   "execution_count": 3,
   "id": "04ba06fa-8efb-4c21-934b-12221aff6e46",
   "metadata": {},
   "outputs": [
    {
     "name": "stdout",
     "output_type": "stream",
     "text": [
      "C:\\Users\\Williams\\Desktop\\J\\PythonProjects\\semiconductor-yield-etl\n"
     ]
    }
   ],
   "source": [
    "import os\n",
    "print(os.getcwd())"
   ]
  },
  {
   "cell_type": "code",
   "execution_count": 4,
   "id": "2c466f29-45cf-46f7-b4dc-a1c5c3afb3ab",
   "metadata": {},
   "outputs": [
    {
     "name": "stdout",
     "output_type": "stream",
     "text": [
      " Volume in drive C has no label.\n",
      " Volume Serial Number is 364D-5347\n",
      "\n",
      " Directory of C:\\Users\\Williams\\Desktop\\J\\PythonProjects\\semiconductor-yield-etl\\src\n",
      "\n",
      "08/26/2025  01:40 PM    <DIR>          .\n",
      "08/26/2025  01:40 PM    <DIR>          ..\n",
      "08/26/2025  01:38 PM    <DIR>          .ipynb_checkpoints\n",
      "08/26/2025  12:48 PM               930 etl.py\n",
      "08/26/2025  12:46 PM               961 generate_data.py\n",
      "08/26/2025  01:40 PM             1,517 report.py\n",
      "08/26/2025  12:56 PM               677 template.html\n",
      "               4 File(s)          4,085 bytes\n",
      "               3 Dir(s)  890,407,657,472 bytes free\n"
     ]
    }
   ],
   "source": [
    "!dir src"
   ]
  }
 ],
 "metadata": {
  "kernelspec": {
   "display_name": "Python 3 (ipykernel)",
   "language": "python",
   "name": "python3"
  },
  "language_info": {
   "codemirror_mode": {
    "name": "ipython",
    "version": 3
   },
   "file_extension": ".py",
   "mimetype": "text/x-python",
   "name": "python",
   "nbconvert_exporter": "python",
   "pygments_lexer": "ipython3",
   "version": "3.13.5"
  }
 },
 "nbformat": 4,
 "nbformat_minor": 5
}
